{
 "cells": [
  {
   "cell_type": "markdown",
   "metadata": {},
   "source": [
    "# Set main paths"
   ]
  },
  {
   "cell_type": "code",
   "execution_count": 12,
   "metadata": {
    "ExecuteTime": {
     "end_time": "2020-06-18T04:01:37.216791Z",
     "start_time": "2020-06-18T04:01:37.199931Z"
    }
   },
   "outputs": [],
   "source": [
    "import configparser\n",
    "\n",
    "config = configparser.ConfigParser()\n",
    "config.read('../config_set.ini')\n",
    "\n",
    "pickle_folder_local = config['MAIN_PATHS']['pickle_folder_local']\n",
    "pickle_folder_server = config['MAIN_PATHS']['pickle_folder_server']\n",
    "rawdata_folder = config['MAIN_PATHS']['puebla_raw_gps']"
   ]
  },
  {
   "cell_type": "markdown",
   "metadata": {
    "ExecuteTime": {
     "end_time": "2020-06-18T01:32:19.102711Z",
     "start_time": "2020-06-18T01:32:19.099468Z"
    }
   },
   "source": [
    "# Bib"
   ]
  },
  {
   "cell_type": "code",
   "execution_count": 13,
   "metadata": {
    "ExecuteTime": {
     "end_time": "2020-06-18T04:01:40.412319Z",
     "start_time": "2020-06-18T04:01:40.384094Z"
    }
   },
   "outputs": [],
   "source": [
    "import sys\n",
    "sys.path.append('..')\n",
    "\n",
    "import os\n",
    "import numpy as np\n",
    "\n",
    "%reload_ext autoreload\n",
    "%autoreload 2\n",
    "import lib.general_utils as utils\n",
    "import lib.matching_id as mid\n",
    "from lib.matching_id import GPS_MATCHING"
   ]
  },
  {
   "cell_type": "markdown",
   "metadata": {
    "ExecuteTime": {
     "end_time": "2020-06-18T01:33:52.588528Z",
     "start_time": "2020-06-18T01:33:52.584841Z"
    }
   },
   "source": [
    "# If the pickle files was not generated"
   ]
  },
  {
   "cell_type": "code",
   "execution_count": null,
   "metadata": {
    "ExecuteTime": {
     "end_time": "2020-06-18T02:22:04.347452Z",
     "start_time": "2020-06-18T02:22:04.282838Z"
    }
   },
   "outputs": [],
   "source": [
    "matcher = GPS_MATCHING(rawdata_folder, pickle_folder_local)"
   ]
  },
  {
   "cell_type": "code",
   "execution_count": null,
   "metadata": {
    "ExecuteTime": {
     "end_time": "2020-06-18T01:55:15.278445Z",
     "start_time": "2020-06-18T01:54:35.003344Z"
    }
   },
   "outputs": [],
   "source": [
    "filenames = sorted(list(os.listdir(rawdata_folder)))\n",
    "example = filenames[:2]\n",
    "\n",
    "matcher.create_trajectories_file(example)"
   ]
  },
  {
   "cell_type": "code",
   "execution_count": null,
   "metadata": {
    "ExecuteTime": {
     "end_time": "2020-06-18T01:56:33.738993Z",
     "start_time": "2020-06-18T01:56:31.381538Z"
    }
   },
   "outputs": [],
   "source": [
    "ex = utils.unpack_users_timeline(pickle_folder, 'April_1.pickle')"
   ]
  },
  {
   "cell_type": "code",
   "execution_count": null,
   "metadata": {
    "ExecuteTime": {
     "end_time": "2020-06-18T01:58:28.405274Z",
     "start_time": "2020-06-18T01:58:28.352400Z"
    }
   },
   "outputs": [],
   "source": [
    "lat, lon, time = ex['79FF7379408AB18979FA71C78285F43AA8449430']"
   ]
  },
  {
   "cell_type": "markdown",
   "metadata": {
    "ExecuteTime": {
     "end_time": "2020-06-18T01:58:42.420183Z",
     "start_time": "2020-06-18T01:58:42.363294Z"
    }
   },
   "source": [
    "# Pickle files ready"
   ]
  },
  {
   "cell_type": "code",
   "execution_count": 16,
   "metadata": {
    "ExecuteTime": {
     "end_time": "2020-06-18T04:02:00.783895Z",
     "start_time": "2020-06-18T04:02:00.760669Z"
    }
   },
   "outputs": [
    {
     "data": {
      "text/plain": [
       "['Puebla_April_25.csv',\n",
       " 'Puebla_March_16.csv',\n",
       " 'Puebla_April_10.csv',\n",
       " 'Puebla_April_11.csv',\n",
       " 'Puebla_March_31.csv',\n",
       " 'Puebla_April_08.csv',\n",
       " 'Puebla_March_21.csv',\n",
       " 'Puebla_April_01.csv',\n",
       " 'Puebla_April_09.csv',\n",
       " 'Puebla_April_19.csv']"
      ]
     },
     "execution_count": 16,
     "metadata": {},
     "output_type": "execute_result"
    }
   ],
   "source": [
    "name_dict = {'March': '03', 'April': '04', 'May': '05', 'June': '06'}\n",
    "filenames = list(os.listdir(rawdata_folder))\n",
    "\n",
    "new_names = []\n",
    "for fname in filenames:\n",
    "    flist = fname.split('_')\n",
    "    new_names.append(f'puebla_{name_dict[flist[1]]}_{flist[2]}')\n",
    "filenames[:10]"
   ]
  },
  {
   "cell_type": "code",
   "execution_count": 17,
   "metadata": {
    "ExecuteTime": {
     "end_time": "2020-06-18T04:02:03.792492Z",
     "start_time": "2020-06-18T04:02:03.770323Z"
    }
   },
   "outputs": [
    {
     "data": {
      "text/plain": [
       "['puebla_04_25.csv',\n",
       " 'puebla_03_16.csv',\n",
       " 'puebla_04_10.csv',\n",
       " 'puebla_04_11.csv',\n",
       " 'puebla_03_31.csv',\n",
       " 'puebla_04_08.csv',\n",
       " 'puebla_03_21.csv',\n",
       " 'puebla_04_01.csv',\n",
       " 'puebla_04_09.csv',\n",
       " 'puebla_04_19.csv']"
      ]
     },
     "execution_count": 17,
     "metadata": {},
     "output_type": "execute_result"
    }
   ],
   "source": [
    "new_names[:10]"
   ]
  },
  {
   "cell_type": "code",
   "execution_count": 18,
   "metadata": {
    "ExecuteTime": {
     "end_time": "2020-06-18T04:02:25.792610Z",
     "start_time": "2020-06-18T04:02:25.769303Z"
    }
   },
   "outputs": [],
   "source": [
    "for index, fname in enumerate(filenames):\n",
    "    os.rename(os.path.join(rawdata_folder, fname), os.path.join(rawdata_folder, new_names[index]))"
   ]
  },
  {
   "cell_type": "code",
   "execution_count": null,
   "metadata": {
    "ExecuteTime": {
     "end_time": "2020-06-18T03:35:58.531269Z",
     "start_time": "2020-06-18T03:35:58.401469Z"
    }
   },
   "outputs": [],
   "source": [
    "stream = os.popen('ls -l')\n",
    "stream.read()"
   ]
  },
  {
   "cell_type": "code",
   "execution_count": null,
   "metadata": {},
   "outputs": [],
   "source": []
  }
 ],
 "metadata": {
  "kernelspec": {
   "display_name": "Python 3",
   "language": "python",
   "name": "python3"
  },
  "language_info": {
   "codemirror_mode": {
    "name": "ipython",
    "version": 3
   },
   "file_extension": ".py",
   "mimetype": "text/x-python",
   "name": "python",
   "nbconvert_exporter": "python",
   "pygments_lexer": "ipython3",
   "version": "3.8.3"
  },
  "latex_envs": {
   "LaTeX_envs_menu_present": true,
   "autoclose": false,
   "autocomplete": true,
   "bibliofile": "biblio.bib",
   "cite_by": "apalike",
   "current_citInitial": 1,
   "eqLabelWithNumbers": true,
   "eqNumInitial": 1,
   "hotkeys": {
    "equation": "Ctrl-E",
    "itemize": "Ctrl-I"
   },
   "labels_anchors": false,
   "latex_user_defs": false,
   "report_style_numbering": false,
   "user_envs_cfg": false
  },
  "toc": {
   "base_numbering": 1,
   "nav_menu": {},
   "number_sections": true,
   "sideBar": true,
   "skip_h1_title": false,
   "title_cell": "Table of Contents",
   "title_sidebar": "Contents",
   "toc_cell": false,
   "toc_position": {},
   "toc_section_display": true,
   "toc_window_display": false
  }
 },
 "nbformat": 4,
 "nbformat_minor": 4
}
